{
 "cells": [
  {
   "cell_type": "markdown",
   "metadata": {},
   "source": [
    "# Learning to Learn by Gradient Descent by Gradient Descent\n",
    "## As simple as possible in TensorFlow"
   ]
  },
  {
   "cell_type": "markdown",
   "metadata": {},
   "source": [
    "When I first came across DeepMind’s paper “Learning to learn by gradient descent by gradient descent”, my reaction was “Wow, how on earth does that work?”. Unfortunately, my first read-through of the paper was not that illuminating, and looking at the code was quite daunitng.\n",
    "Thankfully, I was intrigued enough to force myself to re-read the paper and it actually turned out to be surprisingly simple in the end. Personally, what really helps me when I’m trying to understand something is to create the simplest non-trivial version of the problem and then scale up from there. So here it is, the simplest version of the idea I could create, also no maths equations! I hope you find it illuminating.\n",
    "I suggest skimming the paper first but this should all be understandable without. Code was ran on TF v1.0.0-rc1.\n",
    "\n",
    "\n",
    "---\n",
    "\n",
    "So let’s get started. Time to learn about learning to learn by gradient descent by gradient descent by reading my article."
   ]
  },
  {
   "cell_type": "code",
   "execution_count": 1,
   "metadata": {},
   "outputs": [],
   "source": [
    "import tensorflow as tf"
   ]
  },
  {
   "cell_type": "code",
   "execution_count": 2,
   "metadata": {},
   "outputs": [
    {
     "data": {
      "text/plain": [
       "\"b'v1.13.0-rc2-5-g6612da8'\""
      ]
     },
     "execution_count": 2,
     "metadata": {},
     "output_type": "execute_result"
    }
   ],
   "source": [
    "tf.GIT_VERSION"
   ]
  },
  {
   "cell_type": "markdown",
   "metadata": {},
   "source": [
    "First of all we need a problem for our meta-learning optimizer to solve. Let’s take the simplest experiment from the paper; finding the minimum of a multi-dimensional quadratic function. We are going to randomly scale the parabolas and start at random locations, the solution is always at (0, 0)."
   ]
  },
  {
   "cell_type": "code",
   "execution_count": 3,
   "metadata": {},
   "outputs": [],
   "source": [
    "DIMS = 10  # Dimensions of the parabola\n",
    "scale = tf.random_uniform([DIMS], 0.5, 1.5)\n",
    "# This represents the network we are trying to optimize,\n",
    "# the `optimizee' as it's called in the paper.\n",
    "# Actually, it's more accurate to think of this as the error\n",
    "# landscape.\n",
    "def f(x):\n",
    "    x = scale*x\n",
    "    return tf.reduce_sum(x*x)"
   ]
  },
  {
   "cell_type": "code",
   "execution_count": null,
   "metadata": {},
   "outputs": [],
   "source": []
  },
  {
   "cell_type": "markdown",
   "metadata": {},
   "source": [
    "We can’t easily use TensorFlow’s built in optimizers here since the technique requires us to unroll the training loop inside the computation graph, as we’ll see in a bit. So let’s define a couple of simple hand crafted optimizers to test against our learned optimizer. As discussed in the paper, an optimizer is a function g that takes the gradient of a parameter at a given step and returns back the step you should take in parameter space. Here’s vanilla gradient descent: (Some optimizers need to keep track of state, here I just pass the param through)"
   ]
  },
  {
   "cell_type": "code",
   "execution_count": 4,
   "metadata": {},
   "outputs": [],
   "source": [
    "def g_sgd(gradients, state, learning_rate=0.1):\n",
    "    return -learning_rate*gradients, state"
   ]
  },
  {
   "cell_type": "markdown",
   "metadata": {},
   "source": [
    "For a stronger baseline let’s use RMSProp:"
   ]
  },
  {
   "cell_type": "code",
   "execution_count": 5,
   "metadata": {},
   "outputs": [],
   "source": [
    "def g_rms(gradients, state, learning_rate=0.1, decay_rate=0.99):\n",
    "    if state is None:\n",
    "        state = tf.zeros(DIMS)\n",
    "    state = decay_rate*state + (1-decay_rate)*tf.pow(gradients, 2)\n",
    "    update = -learning_rate*gradients / (tf.sqrt(state)+1e-5)\n",
    "    return update, state"
   ]
  },
  {
   "cell_type": "markdown",
   "metadata": {},
   "source": [
    "Great, now let’s unroll all the training steps, here learn is a function which takes one of these optimizers and applies it in a loop for number of steps and collects the value of the function f at each point, which we can think of as our loss."
   ]
  },
  {
   "cell_type": "code",
   "execution_count": 6,
   "metadata": {},
   "outputs": [],
   "source": [
    "TRAINING_STEPS = 20  # This is 100 in the paper\n",
    "\n",
    "initial_pos = tf.random_uniform([DIMS], -1., 1.)\n",
    "\n",
    "def learn(optimizer):\n",
    "    losses = []\n",
    "    x = initial_pos\n",
    "    state = None\n",
    "    for _ in range(TRAINING_STEPS):\n",
    "        loss = f(x)\n",
    "        losses.append(loss)\n",
    "        grads, = tf.gradients(loss, x)\n",
    "      \n",
    "        update, state = optimizer(grads, state)\n",
    "        x += update\n",
    "    return losses"
   ]
  },
  {
   "cell_type": "markdown",
   "metadata": {},
   "source": [
    "OK, now let’s test it out."
   ]
  },
  {
   "cell_type": "code",
   "execution_count": 7,
   "metadata": {},
   "outputs": [],
   "source": [
    "sgd_losses = learn(g_sgd)\n",
    "rms_losses = learn(g_rms)"
   ]
  },
  {
   "cell_type": "code",
   "execution_count": 8,
   "metadata": {},
   "outputs": [],
   "source": [
    "sess = tf.InteractiveSession()"
   ]
  },
  {
   "cell_type": "markdown",
   "metadata": {},
   "source": [
    "And see what the losses look like."
   ]
  },
  {
   "cell_type": "code",
   "execution_count": 9,
   "metadata": {},
   "outputs": [
    {
     "name": "stdout",
     "output_type": "stream",
     "text": [
      "[0.6524445  1.320545   0.74690986 0.8601543  1.4829196  0.8428761\n",
      " 0.8197861  0.7435862  1.4918832  1.0263679 ]\n",
      "[1.4862759  0.5460484  1.4281286  0.6151525  1.3203219  1.0649748\n",
      " 1.2313627  1.3046669  0.5159708  0.84501505]\n",
      "[0.6417544  1.0662564  0.75994337 1.381727   1.2855614  1.427719\n",
      " 0.8364997  0.5813335  1.4972899  0.5615797 ]\n",
      "[0.6480937  1.0246218  0.9616436  1.3109506  1.4934438  1.0432948\n",
      " 0.818835   1.2945511  0.96391416 1.3681219 ]\n",
      "[0.82109654 1.4743366  1.4300326  1.0077832  1.0782108  0.8298131\n",
      " 1.1598417  1.4137295  1.4398162  1.2656555 ]\n",
      "[1.4952469  1.41593    1.3975434  1.2364196  0.7607646  1.0676229\n",
      " 0.9370997  0.75032127 1.1599799  0.9686446 ]\n",
      "[0.7090212 1.1732113 1.4039859 1.0987186 1.3852904 1.0666554 1.1765866\n",
      " 0.7300105 1.065237  1.4985209]\n",
      "[0.8547069  0.84800375 1.0561929  0.5405568  0.98526895 0.76719534\n",
      " 0.7709173  0.8096771  0.6647085  0.5633023 ]\n",
      "[1.0806595  0.7398472  0.94033074 0.6657038  1.3854527  0.57082057\n",
      " 1.1130118  1.3288243  0.91984606 1.3385088 ]\n",
      "[0.864889   0.78945637 0.9547951  1.0504059  0.6955073  1.1734033\n",
      " 1.1134231  0.8237078  1.2955709  1.0494345 ]\n"
     ]
    },
    {
     "data": {
      "image/png": "[encoded data removed]",
      "text/plain": [
       "<Figure size 432x288 with 1 Axes>"
      ]
     },
     "metadata": {
      "needs_background": "light"
     },
     "output_type": "display_data"
    }
   ],
   "source": [
    "sess.run(tf.global_variables_initializer())\n",
    "\n",
    "import matplotlib\n",
    "import matplotlib.pyplot as plt\n",
    "%matplotlib inline\n",
    "import numpy as np\n",
    "\n",
    "x = np.arange(TRAINING_STEPS)\n",
    "sgd_l = np.zeros(TRAINING_STEPS)\n",
    "rms_l = np.zeros(TRAINING_STEPS)\n",
    "TRIALS = 10\n",
    "for _ in range(TRIALS): \n",
    "    sgd_np, rms_np, ipos, scale_np = sess.run([sgd_losses, rms_losses, initial_pos, scale])\n",
    "    print(scale_np)\n",
    "    sgd_l += sgd_np\n",
    "    rms_l += rms_np\n",
    "sgd_l /= TRIALS\n",
    "rms_l /= TRIALS\n",
    "p1, = plt.plot(x, sgd_l, label='SGD')\n",
    "p2, = plt.plot(x, rms_l, label='RMS')\n",
    "plt.legend(handles=[p1, p2])\n",
    "plt.title('Losses')\n",
    "plt.show()"
   ]
  },
  {
   "cell_type": "markdown",
   "metadata": {},
   "source": [
    "## Meta-Learning\n",
    "Time to put together our meta-learning optimizer, just like in the paper this is an LSTM with 2 layers and 20 hidden units."
   ]
  },
  {
   "cell_type": "code",
   "execution_count": 10,
   "metadata": {},
   "outputs": [
    {
     "name": "stdout",
     "output_type": "stream",
     "text": [
      "\n",
      "WARNING: The TensorFlow contrib module will not be included in TensorFlow 2.0.\n",
      "For more information, please see:\n",
      "  * https://github.com/tensorflow/community/blob/master/rfcs/20180907-contrib-sunset.md\n",
      "  * https://github.com/tensorflow/addons\n",
      "If you depend on functionality not listed there, please file an issue.\n",
      "\n",
      "WARNING:tensorflow:From <ipython-input-10-42878c2c1046>:5: LSTMCell.__init__ (from tensorflow.python.ops.rnn_cell_impl) is deprecated and will be removed in a future version.\n",
      "Instructions for updating:\n",
      "This class is equivalent as tf.keras.layers.LSTMCell, and will be replaced by that in Tensorflow 2.0.\n",
      "WARNING:tensorflow:From <ipython-input-10-42878c2c1046>:5: MultiRNNCell.__init__ (from tensorflow.python.ops.rnn_cell_impl) is deprecated and will be removed in a future version.\n",
      "Instructions for updating:\n",
      "This class is equivalent as tf.keras.layers.StackedRNNCells, and will be replaced by that in Tensorflow 2.0.\n"
     ]
    }
   ],
   "source": [
    "LAYERS = 2\n",
    "STATE_SIZE = 20\n",
    "\n",
    "cell = tf.contrib.rnn.MultiRNNCell(\n",
    "    [tf.contrib.rnn.LSTMCell(STATE_SIZE) for _ in range(LAYERS)])\n",
    "cell = tf.contrib.rnn.InputProjectionWrapper(cell, STATE_SIZE)\n",
    "cell = tf.contrib.rnn.OutputProjectionWrapper(cell, 1)\n",
    "cell = tf.make_template('cell', cell)\n",
    "\n",
    "def g_rnn(gradients, state):\n",
    "    # Make a `batch' of single gradients to create a \n",
    "    # \"coordinate-wise\" RNN as the paper describes. \n",
    "    gradients = tf.expand_dims(gradients, axis=1)\n",
    "    if state is None:\n",
    "        state = [[tf.zeros([DIMS, STATE_SIZE])] * 2] * LAYERS\n",
    "#     print(len(state), len(state[0]), state[0][0].name, state[0][1].name)\n",
    "    update, state = cell(gradients, state)\n",
    "    # Squeeze to make it a single batch again.\n",
    "    return tf.squeeze(update, axis=[1]), state"
   ]
  },
  {
   "cell_type": "code",
   "execution_count": null,
   "metadata": {},
   "outputs": [],
   "source": []
  },
  {
   "cell_type": "markdown",
   "metadata": {},
   "source": [
    "And *that’s it*, that’s our meta learner. We can use it in exactly the same way:"
   ]
  },
  {
   "cell_type": "code",
   "execution_count": 11,
   "metadata": {},
   "outputs": [
    {
     "name": "stdout",
     "output_type": "stream",
     "text": [
      "WARNING:tensorflow:From /home/abdulfatir/miniconda3/lib/python3.7/site-packages/tensorflow/python/framework/op_def_library.py:263: colocate_with (from tensorflow.python.framework.ops) is deprecated and will be removed in a future version.\n",
      "Instructions for updating:\n",
      "Colocations handled automatically by placer.\n"
     ]
    }
   ],
   "source": [
    "rnn_losses = learn(g_rnn)\n",
    "sum_losses = tf.reduce_sum(rnn_losses)"
   ]
  },
  {
   "cell_type": "markdown",
   "metadata": {},
   "source": [
    "Now here’s the magic bit, we want sum_losses to be low, since the lower the losses the better the optimizer right? And because the entire training loop is in the graph we can use Back-Propagation Through Time (BPTT) and a meta-optimizer to minimize this value!"
   ]
  },
  {
   "cell_type": "markdown",
   "metadata": {},
   "source": [
    "And this is the main point: *sum_losses is differentiable*, gradients flow through the graph we’ve defined just fine! TensorFlow is able to work out the gradients of the parameters in our LSTM with respect to this sum of losses. So let’s optimize:"
   ]
  },
  {
   "cell_type": "code",
   "execution_count": 12,
   "metadata": {},
   "outputs": [],
   "source": [
    "optimizer = tf.train.AdamOptimizer(0.0001)\n",
    "def optimize(loss):\n",
    "    gradients, v = zip(*optimizer.compute_gradients(loss))\n",
    "    gradients, _ = tf.clip_by_global_norm(gradients, 1.)\n",
    "    return optimizer.apply_gradients(zip(gradients, v))\n",
    "\n",
    "apply_update = optimize(sum_losses)"
   ]
  },
  {
   "cell_type": "markdown",
   "metadata": {},
   "source": [
    "I found gradient clipping to be *critical* here since the values that go into our meta-learner can be very large at the start of training."
   ]
  },
  {
   "cell_type": "code",
   "execution_count": 14,
   "metadata": {},
   "outputs": [
    {
     "name": "stdout",
     "output_type": "stream",
     "text": [
      "426.2877197265625\n",
      "18.126384924411774\n",
      "4.236409852266312\n",
      "3.986720544934273\n",
      "3.958878756582737\n",
      "CPU times: user 1min 44s, sys: 17.8 s, total: 2min 2s\n",
      "Wall time: 5min 24s\n"
     ]
    }
   ],
   "source": [
    "%%time\n",
    "sess.run(tf.global_variables_initializer())\n",
    "ave = 0\n",
    "for i in range(4000):\n",
    "    err, _ = sess.run([sum_losses, apply_update])\n",
    "    ave += err\n",
    "    if i % 1000 == 0:\n",
    "        print(ave / 1000 if i!=0 else ave)\n",
    "        ave = 0\n",
    "print(ave / 1000)"
   ]
  },
  {
   "cell_type": "markdown",
   "metadata": {},
   "source": [
    "And see how it does:"
   ]
  },
  {
   "cell_type": "code",
   "execution_count": null,
   "metadata": {},
   "outputs": [],
   "source": [
    "for _ in range(3): \n",
    "    sgd_l, rms_l, rnn_l = sess.run(\n",
    "        [sgd_losses, rms_losses, rnn_losses])\n",
    "    p1, = plt.plot(x, sgd_l, label='SGD')\n",
    "    p2, = plt.plot(x, rms_l, label='RMS')\n",
    "    p3, = plt.plot(x, rnn_l, label='RNN')\n",
    "    plt.legend(handles=[p1, p2, p3])\n",
    "    plt.title('Losses')\n",
    "    plt.show()"
   ]
  },
  {
   "cell_type": "markdown",
   "metadata": {},
   "source": [
    "Success! Looks like it’s doing even better than RMS on this problem. Actually, these graphs are slightly misleading, log scale shows something slightly different:"
   ]
  },
  {
   "cell_type": "code",
   "execution_count": null,
   "metadata": {
    "scrolled": true
   },
   "outputs": [],
   "source": [
    "for _ in range(3): \n",
    "    sgd_l, rms_l, rnn_l = sess.run(\n",
    "        [sgd_losses, rms_losses, rnn_losses])\n",
    "    p1, = plt.semilogy(x, sgd_l, label='SGD')\n",
    "    p2, = plt.semilogy(x, rms_l, label='RMS')\n",
    "    p3, = plt.semilogy(x, rnn_l, label='RNN')\n",
    "    plt.legend(handles=[p1, p2, p3])\n",
    "    plt.title('Losses')\n",
    "    plt.show()"
   ]
  },
  {
   "cell_type": "markdown",
   "metadata": {},
   "source": [
    "I think the reason for this, again as discussed in the paper, is that the magnitude of the values being fed into the LSTM can vary wildly and neural networks generally do not perform well when that happens. Here the gradients get so small that it isn’t able to compute sensible updates. The paper uses a solution to this for the bigger experiments; feed in the log gradient and the direction instead. See the paper for details.\n",
    "Hopefully, now that you understand how learn to learn by gradient descent by gradient descent you can see the limitations. It doesn’t seem very scalable. I think it is quite telling that the experiments in the paper are very small. It takes 4000 steps for even our toy problem to converge, we had to train a network completely just for one step of optimization for the meta-learner. We would have to optimize a large problem many more times and would take a very long time. Also unrolling the entire training loop in the graph is not feasible for larger problems, although in the paper they only unroll the BPTT to 20 steps. There is also evidence in the paper that the RNN optimizer can generalize from smaller problem to larger problems.\n",
    "I expect meta-learning to become increasingly more important, for more inspiration I suggest watching these NIPS presentations. https://www.youtube.com/watch?v=0YLpp_TVhLY&list=PLPwzH56Rdmq4hcuEMtvBGxUrcQ4cAkoSc"
   ]
  },
  {
   "cell_type": "code",
   "execution_count": null,
   "metadata": {},
   "outputs": [],
   "source": [
    "import torch.nn as nn\n",
    "import tensorflow as tf"
   ]
  },
  {
   "cell_type": "code",
   "execution_count": null,
   "metadata": {},
   "outputs": [],
   "source": [
    "lstm =nn.LSTM(3, 3)"
   ]
  },
  {
   "cell_type": "code",
   "execution_count": null,
   "metadata": {},
   "outputs": [],
   "source": [
    "num_steps = 10\n",
    "num_classes = 50\n",
    "batch_size = 64\n",
    "state_size = 100\n",
    "x = tf.placeholder(tf.int32, [batch_size, num_steps], name='input_placeholder')\n",
    "y = tf.placeholder(tf.int32, [batch_size, num_steps], name='labels_placeholder')\n",
    "\n",
    "embeddings = tf.get_variable('embedding_matrix', [num_classes, state_size])\n",
    "print(x, embeddings)\n",
    "tf.nn.embedding_lookup(embeddings, x)\n",
    "rnn_inputs = [tf.squeeze(i) for i in tf.split(tf.nn.embedding_lookup(embeddings, x), num_steps, axis=1)]"
   ]
  },
  {
   "cell_type": "code",
   "execution_count": null,
   "metadata": {},
   "outputs": [],
   "source": [
    "rnn_inputs"
   ]
  },
  {
   "cell_type": "code",
   "execution_count": null,
   "metadata": {},
   "outputs": [],
   "source": []
  }
 ],
 "metadata": {
  "kernelspec": {
   "display_name": "Python 3",
   "language": "python",
   "name": "python3"
  },
  "language_info": {
   "codemirror_mode": {
    "name": "ipython",
    "version": 3
   },
   "file_extension": ".py",
   "mimetype": "text/x-python",
   "name": "python",
   "nbconvert_exporter": "python",
   "pygments_lexer": "ipython3",
   "version": "3.7.1"
  }
 },
 "nbformat": 4,
 "nbformat_minor": 1
}
