{
 "cells": [
  {
   "cell_type": "code",
   "execution_count": 1,
   "metadata": {},
   "outputs": [],
   "source": [
    "%matplotlib inline\n",
    "import numpy as np\n",
    "import torch\n",
    "import torch.nn as nn\n",
    "import matplotlib.pyplot as plt\n",
    "import seaborn\n",
    "from tqdm import tqdm"
   ]
  },
  {
   "cell_type": "code",
   "execution_count": 2,
   "metadata": {},
   "outputs": [],
   "source": [
    "class QuadraticModel(nn.Module):\n",
    "    def __init__(self, dims=10, scale=None, theta=None):\n",
    "        super().__init__()\n",
    "        if theta is not None and scale is not None:\n",
    "            self.scale = scale\n",
    "            self.theta = theta\n",
    "        else:\n",
    "            self.scale = torch.tensor(np.random.uniform(low=0.5, high=1.5, size=(dims,)).astype(np.float32))\n",
    "            theta = torch.tensor(np.random.uniform(low=-1, high=1, size=(dims,)).astype(np.float32))\n",
    "            self.theta = nn.Parameter(theta)\n",
    "    def forward(self):\n",
    "        return torch.sum((self.theta * self.scale) ** 2)"
   ]
  },
  {
   "cell_type": "code",
   "execution_count": 3,
   "metadata": {},
   "outputs": [],
   "source": [
    "class SGD:\n",
    "    def __init__(self, lr=1e-1):\n",
    "        self.lr = lr\n",
    "    def __call__(self, grads):\n",
    "        return -self.lr * grads\n",
    "class RMSProp:\n",
    "    def __init__(self, lr=1e-1, decay=0.99):\n",
    "        self.lr = lr\n",
    "        self.decay = decay\n",
    "        self.state = None\n",
    "    def __call__(self, grads):\n",
    "        if self.state is None:\n",
    "            self.state = torch.zeros_like(grads)\n",
    "        state = self.state\n",
    "        state = self.decay * state + (1 - self.decay) * torch.pow(grads, 2)\n",
    "        self.state = state\n",
    "        update = -self.lr * grads / (torch.sqrt(state) + 1e-6)\n",
    "        return update"
   ]
  },
  {
   "cell_type": "code",
   "execution_count": 4,
   "metadata": {},
   "outputs": [],
   "source": [
    "losses = {'iter': [], 'loss': [], 'optim': []}"
   ]
  },
  {
   "cell_type": "code",
   "execution_count": 5,
   "metadata": {},
   "outputs": [
    {
     "name": "stdout",
     "output_type": "stream",
     "text": [
      "0.029571931809186935\n",
      "0.015939220786094666\n",
      "0.006976395845413208\n",
      "0.022141078487038612\n",
      "0.02378375642001629\n",
      "0.012796781957149506\n",
      "0.022395871579647064\n",
      "0.04821525514125824\n",
      "0.02109808474779129\n",
      "0.006614229641854763\n"
     ]
    }
   ],
   "source": [
    "for _ in range(10):\n",
    "    q = QuadraticModel()\n",
    "    sgd = SGD()\n",
    "    for i in range(20):\n",
    "        y = q()\n",
    "        losses['iter'].append(i)\n",
    "        losses['loss'].append(float(y.data.numpy()))\n",
    "        losses['optim'].append('SGD')\n",
    "        grads = torch.autograd.grad(y, q.theta)[0].detach()\n",
    "        update = sgd(grads)\n",
    "        q.theta.data += update\n",
    "    print(y.item())"
   ]
  },
  {
   "cell_type": "code",
   "execution_count": 6,
   "metadata": {},
   "outputs": [
    {
     "name": "stdout",
     "output_type": "stream",
     "text": [
      "1.502390610351078e-17\n",
      "1.0564194918155634e-15\n",
      "5.82715511382296e-15\n",
      "1.1797563827817357e-14\n",
      "9.61184020017384e-15\n",
      "8.659463459335416e-15\n",
      "3.608860951775147e-15\n",
      "5.922989268508259e-15\n",
      "5.5727064164677684e-15\n",
      "9.457299038947292e-15\n"
     ]
    }
   ],
   "source": [
    "for _ in range(10):\n",
    "    q = QuadraticModel()\n",
    "    rms = RMSProp()\n",
    "    for i in range(20):\n",
    "        y = q()\n",
    "        losses['iter'].append(i)\n",
    "        losses['loss'].append(float(y.data.numpy()))\n",
    "        losses['optim'].append('RMSProp')\n",
    "        grads = torch.autograd.grad(y, q.theta)[0].detach()\n",
    "        update = rms(grads)\n",
    "        q.theta.data += update\n",
    "    print(y.item())"
   ]
  },
  {
   "cell_type": "code",
   "execution_count": 7,
   "metadata": {},
   "outputs": [
    {
     "name": "stderr",
     "output_type": "stream",
     "text": [
      "/Users/abdulfatir/miniconda3/lib/python3.6/site-packages/scipy/stats/stats.py:1713: FutureWarning: Using a non-tuple sequence for multidimensional indexing is deprecated; use `arr[tuple(seq)]` instead of `arr[seq]`. In the future this will be interpreted as an array index, `arr[np.array(seq)]`, which will result either in an error or a different result.\n",
      "  return np.add.reduce(sorted[indexer] * weights, axis=axis) / sumval\n"
     ]
    },
    {
     "data": {
      "image/png": "[encoded data removed]",
      "text/plain": [
       "<Figure size 432x288 with 1 Axes>"
      ]
     },
     "metadata": {},
     "output_type": "display_data"
    }
   ],
   "source": [
    "seaborn.lineplot(x='iter', y='loss', hue='optim', data=losses)\n",
    "plt.show()"
   ]
  },
  {
   "cell_type": "code",
   "execution_count": 8,
   "metadata": {},
   "outputs": [],
   "source": [
    "class MetaOptimizer(nn.Module):\n",
    "    def __init__(self, dim=1, hidden=20, out=1, layers=2):\n",
    "        super().__init__()\n",
    "        self.hidden = hidden\n",
    "        self.layers = layers\n",
    "        self.lstm = nn.LSTM(input_size=dim, hidden_size=hidden, num_layers=layers)\n",
    "        self.linear = nn.Linear(hidden, out)\n",
    "    def forward(self, grad, state=None):\n",
    "        # seq_len x batch x size\n",
    "        grad = grad.view(1, -1, 1)\n",
    "        if state is None:\n",
    "            h = torch.zeros(self.layers, grad.size()[1], self.hidden)\n",
    "            c = torch.zeros(self.layers, grad.size()[1], self.hidden)\n",
    "            state = (h, c)\n",
    "        lstm_out, state = self.lstm(grad, state)\n",
    "        # lstm_out.shape: seq_len x batch x hidden\n",
    "        update = self.linear(lstm_out.view(-1, self.hidden))\n",
    "        return update, state"
   ]
  },
  {
   "cell_type": "code",
   "execution_count": 11,
   "metadata": {},
   "outputs": [],
   "source": [
    "torch.manual_seed(0)\n",
    "np.random.seed(0)\n",
    "meta_optimizer = MetaOptimizer()\n",
    "meta_optimizer_optim = torch.optim.Adam(meta_optimizer.parameters(), lr = 1e-3)"
   ]
  },
  {
   "cell_type": "code",
   "execution_count": 12,
   "metadata": {},
   "outputs": [
    {
     "name": "stdout",
     "output_type": "stream",
     "text": [
      "7.856927394866943\n",
      "3.3425545692443848\n",
      "3.9158518314361572\n",
      "4.223442554473877\n",
      "5.856323719024658\n",
      "4.241034507751465\n",
      "4.342558860778809\n",
      "5.855770111083984\n",
      "3.072840690612793\n",
      "1.8832263946533203\n",
      "3.4795022010803223\n",
      "5.595919609069824\n",
      "3.362090587615967\n",
      "3.3252947330474854\n",
      "1.9921029806137085\n",
      "5.348099231719971\n",
      "1.7824023962020874\n",
      "2.872892379760742\n",
      "4.610047340393066\n",
      "3.137704849243164\n",
      "5.1892619132995605\n",
      "3.321563243865967\n",
      "3.7615861892700195\n",
      "2.436392068862915\n",
      "1.7292745113372803\n",
      "2.512012481689453\n",
      "6.028120994567871\n",
      "3.350865125656128\n",
      "1.9898107051849365\n",
      "2.549522638320923\n",
      "3.360713481903076\n",
      "3.8377323150634766\n",
      "4.892670631408691\n",
      "4.905352592468262\n",
      "4.109656810760498\n",
      "2.7453181743621826\n",
      "4.523747444152832\n",
      "8.142844200134277\n",
      "3.566744089126587\n",
      "2.8963706493377686\n"
     ]
    }
   ],
   "source": [
    "pbar = range(4000)\n",
    "state = None\n",
    "for k in pbar:\n",
    "    q = QuadraticModel()\n",
    "    state = None\n",
    "    loss = 0.\n",
    "    temp_theta = 0.\n",
    "    for i in range(20):\n",
    "        y = q()\n",
    "        loss += y\n",
    "        if q.theta.grad is not None:\n",
    "            q.theta.grad.zero_()\n",
    "        y.backward(retain_graph=True)\n",
    "        grads = torch.tensor(q.theta.grad.data) # torch.autograd.grad(y, q.theta, retain_graph=True)[0] # .detach()\n",
    "        update, state = meta_optimizer(grads, state)\n",
    "        update = update.view_as(q.theta.data)\n",
    "        temp_theta = q.theta + update\n",
    "        temp_theta.retain_grad()\n",
    "        q = QuadraticModel(scale=q.scale, theta=temp_theta)\n",
    "    state = (torch.tensor(state[0].data), torch.tensor(state[1].data))\n",
    "    meta_optimizer_optim.zero_grad()\n",
    "    loss.backward()\n",
    "    # print(list(meta_optimizer.parameters())[0].grad)\n",
    "    nn.utils.clip_grad_norm_(meta_optimizer.parameters(), 1.)\n",
    "    meta_optimizer_optim.step()\n",
    "    if (k + 1) % 100 == 0:\n",
    "        print(loss.item())"
   ]
  },
  {
   "cell_type": "code",
   "execution_count": 13,
   "metadata": {},
   "outputs": [
    {
     "name": "stdout",
     "output_type": "stream",
     "text": [
      "1.6901596609386615e-05\n",
      "1.2095997590222396e-05\n",
      "1.2672222510445863e-05\n",
      "1.2561970834212843e-05\n",
      "1.1932733286812436e-05\n",
      "1.147808779933257e-05\n",
      "9.329865861218423e-06\n",
      "1.1174297469551675e-05\n",
      "1.3978168681205716e-05\n",
      "1.2863374649896286e-05\n"
     ]
    }
   ],
   "source": [
    "for _ in range(10):\n",
    "    q = QuadraticModel()\n",
    "    state = None\n",
    "    for i in range(20):\n",
    "        y = q()\n",
    "        losses['iter'].append(i)\n",
    "        losses['loss'].append(float(y.data.numpy()))\n",
    "        losses['optim'].append('LSTM')\n",
    "        grads = torch.autograd.grad(y, q.theta)[0].detach()\n",
    "        update, state = meta_optimizer(grads, state)\n",
    "        update = update.view_as(q.theta.data)\n",
    "        q.theta.data += update\n",
    "    print(y.item())"
   ]
  },
  {
   "cell_type": "code",
   "execution_count": 14,
   "metadata": {},
   "outputs": [
    {
     "name": "stderr",
     "output_type": "stream",
     "text": [
      "/Users/abdulfatir/miniconda3/lib/python3.6/site-packages/scipy/stats/stats.py:1713: FutureWarning: Using a non-tuple sequence for multidimensional indexing is deprecated; use `arr[tuple(seq)]` instead of `arr[seq]`. In the future this will be interpreted as an array index, `arr[np.array(seq)]`, which will result either in an error or a different result.\n",
      "  return np.add.reduce(sorted[indexer] * weights, axis=axis) / sumval\n"
     ]
    },
    {
     "data": {
      "image/png": "[encoded data removed]",
      "text/plain": [
       "<Figure size 432x288 with 1 Axes>"
      ]
     },
     "metadata": {},
     "output_type": "display_data"
    }
   ],
   "source": [
    "seaborn.lineplot(x='iter', y='loss', hue='optim', data=losses)\n",
    "plt.show()"
   ]
  },
  {
   "cell_type": "code",
   "execution_count": null,
   "metadata": {},
   "outputs": [],
   "source": [
    "meta_optimizer"
   ]
  },
  {
   "cell_type": "code",
   "execution_count": null,
   "metadata": {},
   "outputs": [],
   "source": [
    "x = torch.tensor([5])"
   ]
  },
  {
   "cell_type": "code",
   "execution_count": null,
   "metadata": {},
   "outputs": [],
   "source": [
    "y = x ** 2"
   ]
  },
  {
   "cell_type": "code",
   "execution_count": null,
   "metadata": {},
   "outputs": [],
   "source": [
    "torch.autograd.grad(y, x)"
   ]
  },
  {
   "cell_type": "code",
   "execution_count": null,
   "metadata": {},
   "outputs": [],
   "source": []
  }
 ],
 "metadata": {
  "kernelspec": {
   "display_name": "Python 3",
   "language": "python",
   "name": "python3"
  },
  "language_info": {
   "codemirror_mode": {
    "name": "ipython",
    "version": 3
   },
   "file_extension": ".py",
   "mimetype": "text/x-python",
   "name": "python",
   "nbconvert_exporter": "python",
   "pygments_lexer": "ipython3",
   "version": "3.6.5"
  }
 },
 "nbformat": 4,
 "nbformat_minor": 2
}
